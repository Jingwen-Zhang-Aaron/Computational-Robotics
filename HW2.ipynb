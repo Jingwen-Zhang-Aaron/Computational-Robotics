{
 "cells": [
  {
   "cell_type": "code",
   "execution_count": 1,
   "metadata": {
    "collapsed": false
   },
   "outputs": [
    {
     "name": "stdout",
     "output_type": "stream",
     "text": [
      "There are 432 states for grid 6 x 6.\n",
      "There are 7 actions for the robot to choose.\n"
     ]
    }
   ],
   "source": [
    "import numpy as np\n",
    "import matplotlib.pyplot as plt\n",
    "# Problem 1(a) and 1(b)\n",
    "# Define actions (MOVE, TURN)\n",
    "STILL = 0\n",
    "FWDS = 1\n",
    "BWDS = 2\n",
    "NO_TURN = 0\n",
    "LEFT_TURN = -1\n",
    "RIGHT_TURN = 1\n",
    "\n",
    "# Define the grid world\n",
    "L = 6;\n",
    "W = 6;\n",
    "\n",
    "# State s = (x, y, h) including x coordinate, y coordinate and the heading h\n",
    "S = []\n",
    "for x in range(L):\n",
    "    for y in range(W):\n",
    "        for h in range(12):\n",
    "            S.append((x, y, h))\n",
    "            \n",
    "# Size of the state space\n",
    "nS = len(S)  # nS = L x M x 12\n",
    "print('There are %d states for grid %d x %d.' % (nS, L, W))\n",
    "\n",
    "# Action a = (move, turn)\n",
    "A = [];\n",
    "for move in [STILL, FWDS, BWDS]:\n",
    "    if move != STILL:\n",
    "        for turn in [NO_TURN, LEFT_TURN, RIGHT_TURN]:\n",
    "            A.append((move, turn))\n",
    "    else:\n",
    "        A.append((STILL, NO_TURN))\n",
    "\n",
    "# Size of the action space\n",
    "nA = len(A)\n",
    "print('There are %d actions for the robot to choose.' % nA)"
   ]
  },
  {
   "cell_type": "code",
   "execution_count": 2,
   "metadata": {
    "collapsed": true
   },
   "outputs": [],
   "source": [
    "# Probelm 1(c)\n",
    "def transition_func(s, a, s_prime, pe = 0.0):\n",
    "    \"\"\"\n",
    "    Evaluate the probability action a leads from state s to state s_prime\n",
    "    \n",
    "    Args:\n",
    "        current state s = (x, y, h).\n",
    "        action a = (move, turn).\n",
    "        future state s_prime = (x_prime, y_prime, h_prime).\n",
    "        p_e: the error probability Pe to pre-rotate when chosing to move. 0 < Pe <= 0.5\n",
    "    \n",
    "    Returns:\n",
    "        the probability T(s, a, s_prime) = P_sa(s_prime)\n",
    "    \"\"\"\n",
    "    # Confirm the feasibility of p_e\n",
    "    if not (pe >= 0.0 and pe <= 0.5):\n",
    "        raise ValueError('The error probability must be between 0 and 0.5')\n",
    "    \n",
    "    # Define heading searching dir\n",
    "    P_search = {}\n",
    "    # P_search[h] = [(move_direction, h, pr), (-, h+1, -), (-, h-1, -)]\n",
    "    # move_direction including +x ([1, 0]), -x ([-1, 0]), +y ([0, 1]), -y ([0, -1])\n",
    "    P_search[0] = [([0, 1], 0, 1-2*pe), ([0, 1], 1, pe), ([0, 1], 11, pe)]\n",
    "    P_search[1] = [([0, 1], 1, 1-2*pe), ([1, 0], 2, pe), ([0, 1], 0, pe)]\n",
    "    P_search[2] = [([1, 0], 2, 1-2*pe), ([1, 0], 3, pe), ([0, 1], 1, pe)]\n",
    "    P_search[3] = [([1, 0], 3, 1-2*pe), ([1, 0], 4, pe), ([1, 0], 2, pe)]\n",
    "    P_search[4] = [([1, 0], 4, 1-2*pe), ([0, -1], 5, pe), ([1, 0], 3, pe)]\n",
    "    P_search[5] = [([0, -1], 5, 1-2*pe), ([0, -1], 6, pe), ([1, 0], 4, pe)]\n",
    "    P_search[6] = [([0, -1], 6, 1-2*pe), ([0, -1], 7, pe), ([0, -1], 5, pe)]\n",
    "    P_search[7] = [([0, -1], 7, 1-2*pe), ([-1, 0], 8, pe), ([0, -1], 6, pe)]\n",
    "    P_search[8] = [([-1, 0], 8, 1-2*pe), ([-1, 0], 9, pe), ([0, -1], 7, pe)]\n",
    "    P_search[9] = [([-1, 0], 9, 1-2*pe), ([-1, 0], 10, pe), ([-1, 0], 8, pe)]\n",
    "    P_search[10] = [([-1, 0], 10, 1-2*pe), ([0, 1], 11, pe), ([-1, 0], 9, pe)]\n",
    "    P_search[11] = [([0, 1], 11, 1-2*pe), ([0, 1], 0, pe), ([-1, 0], 10, pe)]\n",
    "    \n",
    "    # Evaluate all possible future states according to action and current state\n",
    "    P = {}                # P[(x_prime, y_prime, h_prime)] = p_sa \n",
    "    if a[0] == FWDS:\n",
    "        for result in P_search[s[2]]:\n",
    "            x = s[0] + result[0][0]\n",
    "            # Attempting to move off the grid will result in no linear movement\n",
    "            x_desired = x if (x<=L-1 and x>=0) else s[0]\n",
    "            \n",
    "            y = s[1] + result[0][1]\n",
    "            # Attempting to move off the grid will result in no linear movement\n",
    "            y_desired = y if (y<=W-1 and y>=0) else s[1]\n",
    "            \n",
    "            h_desired = (result[1] + a[1]) % 12\n",
    "            P[(x_desired, y_desired, h_desired)] = result[2]\n",
    "            \n",
    "    elif a[0] == BWDS:        \n",
    "        for result in P_search[s[2]]:\n",
    "            x = s[0] - result[0][0]\n",
    "            # Attempting to move off the grid will result in no linear movement\n",
    "            x_desired = x if (x<=L-1 and x>=0) else s[0]\n",
    "            \n",
    "            y = s[1] - result[0][1]\n",
    "            # Attempting to move off the grid will result in no linear movement\n",
    "            y_desired = y if (y<=W-1 and y>=0) else s[1]\n",
    "            \n",
    "            h_desired = (result[1] + a[1]) % 12\n",
    "            P[(x_desired, y_desired, h_desired)] = result[2]    \n",
    "            \n",
    "    else:\n",
    "        # action is to take no motion at all\n",
    "        P[s] = 1\n",
    "    \n",
    "    # Find if s_prime is in possible future states\n",
    "    if s_prime in P.keys():\n",
    "        return P[s_prime]\n",
    "    else:\n",
    "        return 0.0\n",
    "    "
   ]
  },
  {
   "cell_type": "code",
   "execution_count": 3,
   "metadata": {
    "collapsed": false
   },
   "outputs": [
    {
     "name": "stdout",
     "output_type": "stream",
     "text": [
      "action: (0, 0)\n",
      "pr: 1\n",
      "action: (1, 0)\n",
      "pr: 0.0\n",
      "action: (1, -1)\n",
      "pr: 0.0\n",
      "action: (1, 1)\n",
      "pr: 0.0\n",
      "action: (2, 0)\n",
      "pr: 0.6\n",
      "action: (2, -1)\n",
      "pr: 0.0\n",
      "action: (2, 1)\n",
      "pr: 0.2\n"
     ]
    }
   ],
   "source": [
    "s = (0,3,4)\n",
    "s_prime = (0,3,4) \n",
    "for a in A: \n",
    "    pr = transition_func(s, a, s_prime, pe = 0.2) \n",
    "    print(\"action:\",a) \n",
    "    print(\"pr:\",pr)"
   ]
  },
  {
   "cell_type": "code",
   "execution_count": 4,
   "metadata": {
    "collapsed": true
   },
   "outputs": [],
   "source": [
    "# Problem 1(d)\n",
    "def next_state(s, a, pe = 0.0):\n",
    "    \"\"\"\n",
    "    Evaluate next states\n",
    "    \n",
    "    Args:\n",
    "        current state s = (x, y, h).\n",
    "        action a = (move, turn).\n",
    "        p_e: the error probability Pe to pre-rotate when chosing to move. 0 < Pe <= 0.5\n",
    "    \n",
    "    Returns:\n",
    "        All possible next state with probability\n",
    "    \"\"\"\n",
    "    # Confirm the feasibility of p_e\n",
    "    if not (pe >= 0.0 and pe <= 0.5):\n",
    "        raise ValueError('The error probability must be between 0 and 0.5')\n",
    "    \n",
    "    # Define heading searching dir\n",
    "    P_search = {}\n",
    "    # P_search[h] = [(move_direction, h, pr), (-, h+1, -), (-, h-1, -)]\n",
    "    # move_direction including +x ([1, 0]), -x ([-1, 0]), +y ([0, 1]), -y ([0, -1])\n",
    "    P_search[0] = [([0, 1], 0, 1-2*pe), ([0, 1], 1, pe), ([0, 1], 11, pe)]\n",
    "    P_search[1] = [([0, 1], 1, 1-2*pe), ([1, 0], 2, pe), ([0, 1], 0, pe)]\n",
    "    P_search[2] = [([1, 0], 2, 1-2*pe), ([1, 0], 3, pe), ([0, 1], 1, pe)]\n",
    "    P_search[3] = [([1, 0], 3, 1-2*pe), ([1, 0], 4, pe), ([1, 0], 2, pe)]\n",
    "    P_search[4] = [([1, 0], 4, 1-2*pe), ([0, -1], 5, pe), ([1, 0], 3, pe)]\n",
    "    P_search[5] = [([0, -1], 5, 1-2*pe), ([0, -1], 6, pe), ([1, 0], 4, pe)]\n",
    "    P_search[6] = [([0, -1], 6, 1-2*pe), ([0, -1], 7, pe), ([0, -1], 5, pe)]\n",
    "    P_search[7] = [([0, -1], 7, 1-2*pe), ([-1, 0], 8, pe), ([0, -1], 6, pe)]\n",
    "    P_search[8] = [([-1, 0], 8, 1-2*pe), ([-1, 0], 9, pe), ([0, -1], 7, pe)]\n",
    "    P_search[9] = [([-1, 0], 9, 1-2*pe), ([-1, 0], 10, pe), ([-1, 0], 8, pe)]\n",
    "    P_search[10] = [([-1, 0], 10, 1-2*pe), ([0, 1], 11, pe), ([-1, 0], 9, pe)]\n",
    "    P_search[11] = [([0, 1], 11, 1-2*pe), ([0, 1], 0, pe), ([-1, 0], 10, pe)]\n",
    "    \n",
    "    # Evaluate all possible future states according to action and current state\n",
    "    P = {}                # P[p_sa] = (x_prime, y_prime, h_prime)\n",
    "    if a[0] == FWDS:\n",
    "        for result in P_search[s[2]]:\n",
    "            x = s[0] + result[0][0]\n",
    "            # Attempting to move off the grid will result in no linear movement\n",
    "            x_desired = x if (x<=L-1 and x>=0) else s[0]\n",
    "            \n",
    "            y = s[1] + result[0][1]\n",
    "            # Attempting to move off the grid will result in no linear movement\n",
    "            y_desired = y if (y<=W-1 and y>=0) else s[1]\n",
    "            \n",
    "            h_desired = (result[1] + a[1]) % 12\n",
    "            \n",
    "            if result[2] != 0.0:\n",
    "                P[result[2]] = (x_desired, y_desired, h_desired)\n",
    "            \n",
    "    elif a[0] == BWDS:        \n",
    "        for result in P_search[s[2]]:\n",
    "            x = s[0] - result[0][0]\n",
    "            # Attempting to move off the grid will result in no linear movement\n",
    "            x_desired = x if (x<=L-1 and x>=0) else s[0]\n",
    "            \n",
    "            y = s[1] - result[0][1]\n",
    "            # Attempting to move off the grid will result in no linear movement\n",
    "            y_desired = y if (y<=W-1 and y>=0) else s[1]\n",
    "            \n",
    "            h_desired = (result[1] + a[1]) % 12\n",
    "            \n",
    "            if result[2] != 0.0:\n",
    "                P[result[2]] = (x_desired, y_desired, h_desired)\n",
    "            \n",
    "    else:\n",
    "        # action is to take no motion at all\n",
    "        P[1.0] = s\n",
    "    \n",
    "    return P\n",
    "    # return the state with highest prabability\n",
    "    # state_index = max(P.keys())\n",
    "    #return P[state_index]"
   ]
  },
  {
   "cell_type": "code",
   "execution_count": 5,
   "metadata": {
    "collapsed": false
   },
   "outputs": [
    {
     "name": "stdout",
     "output_type": "stream",
     "text": [
      "action: (0, 0)\n",
      "{1.0: (2, 2, 2)}\n",
      "action: (1, 0)\n",
      "{1.0: (3, 2, 2)}\n",
      "action: (1, -1)\n",
      "{1.0: (3, 2, 1)}\n",
      "action: (1, 1)\n",
      "{1.0: (3, 2, 3)}\n",
      "action: (2, 0)\n",
      "{1.0: (1, 2, 2)}\n",
      "action: (2, -1)\n",
      "{1.0: (1, 2, 1)}\n",
      "action: (2, 1)\n",
      "{1.0: (1, 2, 3)}\n"
     ]
    }
   ],
   "source": [
    "s = (2,2,2)\n",
    "for a in A: \n",
    "    P = next_state(s, a) \n",
    "    print(\"action:\",a) \n",
    "    print(P)"
   ]
  },
  {
   "cell_type": "code",
   "execution_count": 6,
   "metadata": {
    "collapsed": true
   },
   "outputs": [],
   "source": [
    "# Problem 2(a)\n",
    "def reward(s):\n",
    "    # Border states (red)\n",
    "    if (s[0] in [0, 5]) or (s[1] in [0, 5]):\n",
    "        return -100\n",
    "    \n",
    "    # Lane Markers (yellow)\n",
    "    elif (s[0] in [2, 4]) and (s[1] in [2, 3, 4]):\n",
    "        return -10\n",
    "    \n",
    "    # Goal state (Green)\n",
    "    elif (s[0] == 3) and (s[1] == 4):\n",
    "        return 1\n",
    "    \n",
    "    else:\n",
    "        return 0"
   ]
  },
  {
   "cell_type": "code",
   "execution_count": 7,
   "metadata": {
    "collapsed": true
   },
   "outputs": [],
   "source": [
    "# Problem 3(a)\n",
    "# Start with an initial policy \n",
    "policy = {}\n",
    "for s in S:\n",
    "    # Get the vector from the state to the goal\n",
    "    dir_vector = [3-s[0], 4-s[1]]\n",
    "    \n",
    "    # already reach goal\n",
    "    if dir_vector == [0, 0]:\n",
    "        policy[s] = (STILL, NO_TURN)\n",
    "        \n",
    "    # Compute the move direction\n",
    "    # heading +x\n",
    "    if s[2] in [2, 3, 4]:\n",
    "        move = FWDS if (dir_vector[0]>=0 or dir_vector[1]==0) else BWDS\n",
    "        \n",
    "    # heading -x\n",
    "    if s[2] in [8, 9, 10]:\n",
    "        move = FWDS if (dir_vector[0]<=0 or dir_vector[1]==0) else BWDS\n",
    "        \n",
    "    # heading +y\n",
    "    if s[2] in [11, 0, 1]:\n",
    "        move = FWDS if (dir_vector[1]>=0 or dir_vector[0]==0) else BWDS\n",
    "        \n",
    "    # heading -y\n",
    "    if s[2] in [5, 6, 7]:\n",
    "        move = FWDS if (dir_vector[1]<=0 or dir_vector[0]==0) else BWDS\n",
    "    \n",
    "    # Compute the turn direction\n",
    "    # get the vetor angle theta\n",
    "    theta = np.arctan2(dir_vector[1], dir_vector[0])*180/np.pi\n",
    "    angle_diff = s[2]*30-(90 - theta)\n",
    "    if (angle_diff > 0) and (angle_diff < 180):\n",
    "        turn = LEFT_TURN\n",
    "    elif (angle_diff == 0) or (angle_diff == 180):\n",
    "        turn = NO_TURN\n",
    "    else:\n",
    "        turn = RIGHT_TURN\n",
    "        \n",
    "    policy[s] = (move, turn)"
   ]
  },
  {
   "cell_type": "code",
   "execution_count": 8,
   "metadata": {
    "collapsed": false
   },
   "outputs": [
    {
     "data": {
      "image/png": "[encoded data removed]",
      "text/plain": [
       "<Figure size 432x432 with 1 Axes>"
      ]
     },
     "metadata": {
      "needs_background": "light"
     },
     "output_type": "display_data"
    },
    {
     "name": "stdout",
     "output_type": "stream",
     "text": [
      "Trajectory ([state, action]) from (1, 4, 6) to the goal is:  [[(1, 4, 6), (1, -1)], [(1, 3, 5), (2, -1)], [(1, 4, 4), (1, -1)], [(2, 4, 3), (1, 0)], [(3, 4, 3), (1, 0)]]\n"
     ]
    }
   ],
   "source": [
    "# Problem 3(b)\n",
    "def generate_trajectory(policy, s, pe=0.0, show=True):\n",
    "    \"\"\"\n",
    "    Generate a trajectory using policy from initial state s to the goal and\n",
    "    visualize the trajectory on the grid world.\n",
    "    \n",
    "    Args:\n",
    "        Policy: a directionary including all states and their related action.\n",
    "        Initial state s = (x, y, h).\n",
    "        p_e: the error probability Pe to pre-rotate when chosing to move. 0 < Pe <= 0.5\n",
    "    \n",
    "    Returns:\n",
    "        Trajectory including passing states and actions on each state\n",
    "    \"\"\"\n",
    "    \n",
    "    # Confirm the feasibility of p_e\n",
    "    if not (pe >= 0.0 and pe <= 0.5):\n",
    "        raise ValueError('The error probability must be between 0 and 0.5')\n",
    "        \n",
    "    # Generate the trajectory\n",
    "    traj = []\n",
    "    s_now = s\n",
    "    while True:\n",
    "        traj.append([s_now, policy[s_now]])\n",
    "        if (policy[s_now] == (0, 0)):\n",
    "            break\n",
    "        if (s_now[0] == 3) and (s_now[1] == 4):\n",
    "            break\n",
    "        P_state = next_state(s_now, policy[s_now], pe)\n",
    "        state_index = max(P_state.keys())\n",
    "        s_next = P_state[state_index]\n",
    "        s_now = s_next\n",
    "        \n",
    "    # Grid world initilization\n",
    "    fig = plt.figure(figsize = (L,W))\n",
    "    ax = fig.add_subplot(1,1,1)\n",
    "    plt.xlim((0, L))\n",
    "    plt.ylim((0, W))\n",
    "    plt.grid(True, color = 'k')\n",
    "\n",
    "    # Plot red markers at edges\n",
    "    edge1 = plt.Rectangle((0,0), 1, 6, color = 'r')\n",
    "    edge2 = plt.Rectangle((1,0), 5, 1, color = 'r')\n",
    "    edge3 = plt.Rectangle((5,1), 1, 5, color = 'r')\n",
    "    edge4 = plt.Rectangle((1,5), 4, 1, color = 'r')\n",
    "    ax.add_patch(edge1)\n",
    "    ax.add_patch(edge2)\n",
    "    ax.add_patch(edge3)\n",
    "    ax.add_patch(edge4)\n",
    "\n",
    "    # Plot yellow markers\n",
    "    yellow1 = plt.Rectangle((2,2), 1, 3, color = 'y', alpha = 0.8)\n",
    "    yellow2 = plt.Rectangle((4,2), 1, 3, color = 'y', alpha = 0.8)\n",
    "    ax.add_patch(yellow1)\n",
    "    ax.add_patch(yellow2)\n",
    "\n",
    "    # Plot green goal\n",
    "    goal = plt.Rectangle((3,4), 1, 1, color = 'g', alpha = 0.8)\n",
    "    ax.add_patch(goal)\n",
    "\n",
    "    # Plot the start state\n",
    "    plt.plot(s[0]+0.5, s[1]+0.5, 'o', markersize = '10')\n",
    "    ax.arrow(s[0]+0.5, s[1]+0.5, 0.4*np.sin(30*s[2]*np.pi/180),0.4*np.cos(30*s[2]*np.pi/180), \\\n",
    "             head_width = 0.1, head_length = 0.2, fc = 'k', ec = 'k')\n",
    "    \n",
    "    # Plot all passing states\n",
    "    for i in range(1, len(traj)):\n",
    "        x1 = traj[i-1][0][0]\n",
    "        y1 = traj[i-1][0][1]\n",
    "        x2 = traj[i][0][0]\n",
    "        y2 = traj[i][0][1]\n",
    "        h = traj[i][0][2]\n",
    "        plt.plot([x1+0.5, x2+0.5], [y1+0.5, y2+0.5], 'k--')\n",
    "        plt.plot(x2+0.5, y2+0.5, 'o', markersize = '10')\n",
    "        ax.arrow(x2+0.5, y2+0.5, 0.4*np.sin(30*h*np.pi/180),0.4*np.cos(30*h*np.pi/180), \\\n",
    "                 head_width = 0.1, head_length = 0.2, fc = 'k', ec = 'k')\n",
    "    \n",
    "    if show:\n",
    "        plt.show()\n",
    "        \n",
    "    return traj\n",
    "    \n",
    "# Problem 3(c)\n",
    "s0 = (1, 4, 6)\n",
    "traj_sample = generate_trajectory(policy, s0, pe=0.0, show=True)\n",
    "print(\"Trajectory ([state, action]) from %s to the goal is: \" % str(s0), traj_sample)"
   ]
  },
  {
   "cell_type": "code",
   "execution_count": 9,
   "metadata": {
    "collapsed": false
   },
   "outputs": [
    {
     "name": "stdout",
     "output_type": "stream",
     "text": [
      "The value V(s0) is: -604.4219191669506\n"
     ]
    }
   ],
   "source": [
    "# Problem 3(d)\n",
    "def policy_eval(policy, reward_fn=reward, pe=0.0, discount_factor=1.0, theta=0.00001):\n",
    "    \"\"\"\n",
    "    Evaluate a policy\n",
    "    \n",
    "    Args:\n",
    "        policy: {S: A} shaped dictionary representing the policy.\n",
    "        reward_fn: reward function to be used for policy evaluation.\n",
    "        discount_factor: Gamma discount factor.\n",
    "        p_e: the error probability Pe to pre-rotate when chosing to move. 0 < Pe <= 0.5\n",
    "        theta: We stop evaluation once our value function change is less than theta for all states.\n",
    "        \n",
    "    Returns:\n",
    "        Dictionary of shape {S: V} representing the value function.\n",
    "    \"\"\"\n",
    "    # Start with a random (all 0) value function\n",
    "    V = {}\n",
    "    for s in S:\n",
    "        V[s] = 0.0\n",
    "    \n",
    "    while True:\n",
    "        delta = 0\n",
    "        # For each state, perform the evaluation\n",
    "        for s in S:\n",
    "            v = 0\n",
    "            # Look at the possible next states\n",
    "            P_state = next_state(s, policy[s], pe)\n",
    "            for prob in P_state.keys():\n",
    "                # Calculate the expected value\n",
    "                s_next = P_state[prob]\n",
    "                v = v + prob * (reward_fn(s_next) + discount_factor * V[s_next])\n",
    "            # How much our value function changed (across any states)\n",
    "            delta = max(delta, np.abs(v - V[s]))\n",
    "            V[s] = v\n",
    "        # Stop evaluating once our value function change is below a threshold\n",
    "        if delta < theta:\n",
    "            break\n",
    "    return V\n",
    "\n",
    "# Problem 3(e)\n",
    "V = policy_eval(policy, discount_factor=0.9, theta=0.00001)\n",
    "s0 = (1, 4, 6)\n",
    "print(\"The value V(s0) is:\", V[s0])"
   ]
  },
  {
   "cell_type": "code",
   "execution_count": 10,
   "metadata": {
    "collapsed": false
   },
   "outputs": [],
   "source": [
    "# Problem 3(f)\n",
    "def one_step_lookahead(V, reward_fn=reward, pe=0.0, discount_factor=1.0):\n",
    "    \"\"\"\n",
    "    Function to compute a optimal policy given just one-step lookhead on value V\n",
    "    \n",
    "    Args:\n",
    "        V: the evaluation value based on current policy\n",
    "        reward_fn: reward function to be used for policy evaluation.\n",
    "        p_e: the error probability Pe to pre-rotate when chosing to move. 0 < Pe <= 0.5\n",
    "        discount_factor: Gamma discount factor.\n",
    "        \n",
    "    Returns:\n",
    "        policy: dictionary including optimal policy so far given a one-step lookhead\n",
    "    \"\"\"\n",
    "    policy = {}\n",
    "    # Look at all states\n",
    "    for s in S:\n",
    "        action_values = np.zeros(nA)\n",
    "        # Look at the possible next actions\n",
    "        for i, a in enumerate(A):\n",
    "            # For each action, look at the possible next states\n",
    "            P_state = next_state(s, a, pe)\n",
    "            for prob in P_state.keys():\n",
    "                s_next = P_state[prob]\n",
    "                # Calculate the expected value\n",
    "                action_values[i] += prob * (reward_fn(s_next) + discount_factor * V[s_next])\n",
    "                #action_values[i] += prob * discount_factor * V[s_next]\n",
    "                \n",
    "        # Find the best action by one-step lookahead\n",
    "        best_a_index = np.argmax(action_values)\n",
    "        policy[s] = A[best_a_index]\n",
    "        \n",
    "    return policy"
   ]
  },
  {
   "cell_type": "code",
   "execution_count": 11,
   "metadata": {
    "collapsed": false
   },
   "outputs": [],
   "source": [
    "# Problem 3(g)\n",
    "def policy_iteration(policy, reward_fn=reward, pe=0.0, discount_factor=1.0):\n",
    "    \"\"\"\n",
    "    Policy Iteration Algorithm.\n",
    "    \n",
    "    Args:\n",
    "        policy: initial policy used to iterate\n",
    "        reward_fn: reward function to be used for policy evaluation.\n",
    "        p_e: the error probability Pe to pre-rotate when chosing to move. 0 < Pe <= 0.5\n",
    "        discount_factor: Gamma discount factor.\n",
    "        \n",
    "    Returns:\n",
    "        A tuple (policy, V) of the optimal policy and the optimal value function\n",
    "    \"\"\"\n",
    "        \n",
    "    while True:\n",
    "        # Evaluate the current policy\n",
    "        V = policy_eval(policy, reward_fn, pe, discount_factor)\n",
    "        \n",
    "        # Will be set to false if we make any changes to the policy\n",
    "        policy_stable = True\n",
    "        \n",
    "        # Update policy by one-step lookahead\n",
    "        policy_updated = one_step_lookahead(V, reward_fn, pe, discount_factor)\n",
    "        \n",
    "        if policy_updated != policy:\n",
    "            policy_stable = False\n",
    "            \n",
    "        policy = policy_updated\n",
    "        \n",
    "        # If the policy is stable we've found an optimal policy. Return it\n",
    "        if policy_stable:\n",
    "            return policy, V"
   ]
  },
  {
   "cell_type": "code",
   "execution_count": 12,
   "metadata": {
    "collapsed": false
   },
   "outputs": [
    {
     "data": {
      "image/png": "[encoded data removed]",
      "text/plain": [
       "<Figure size 432x432 with 1 Axes>"
      ]
     },
     "metadata": {
      "needs_background": "light"
     },
     "output_type": "display_data"
    },
    {
     "name": "stdout",
     "output_type": "stream",
     "text": [
      "Execution time of Policy Iteration = 5.281501770019531 s\n",
      "Trajectory ([state, action]) from (1, 4, 6) to the goal is:  [[(1, 4, 6), (1, 0)], [(1, 3, 6), (1, -1)], [(1, 2, 5), (1, -1)], [(1, 1, 4), (1, 0)], [(2, 1, 4), (1, 1)], [(3, 1, 5), (2, 0)], [(3, 2, 5), (2, 0)], [(3, 3, 5), (2, 0)], [(3, 4, 5), (0, 0)]]\n"
     ]
    }
   ],
   "source": [
    "# Problem 3(h) and Problem 3(i)\n",
    "import time\n",
    "\n",
    "# Compute the optimal policy\n",
    "start_time = time.time()\n",
    "policy_optimal, V_optimal = policy_iteration(policy, pe =0.0, discount_factor=0.9)\n",
    "\n",
    "# Recompute and plot the trajectory under this optimal policy\n",
    "s0 = (1, 4, 6)\n",
    "traj = generate_trajectory(policy_optimal, s0, pe=0.0, show=True)\n",
    "end_time = time.time()\n",
    "print(\"Execution time of Policy Iteration = %s s\" %str(end_time - start_time))\n",
    "print(\"Trajectory ([state, action]) from %s to the goal is: \" % str(s0), traj)"
   ]
  },
  {
   "cell_type": "code",
   "execution_count": 12,
   "metadata": {
    "collapsed": true
   },
   "outputs": [],
   "source": [
    "# Problem 4(a)\n",
    "def value_iteration(policy, reward_fn=reward, pe=0.0, discount_factor=1.0, theta=0.0001):\n",
    "    \"\"\"\n",
    "    Value Iteration Algorithm.\n",
    "    \n",
    "    Args:\n",
    "        policy: initial policy used to iterate.\n",
    "        reward_fn: reward function to be used for policy evaluation.\n",
    "        p_e: the error probability Pe to pre-rotate when chosing to move. 0 < Pe <= 0.5\n",
    "        discount_factor: Gamma discount factor.\n",
    "        theta: We stop evaluation once our value function change is less than theta for all states.\n",
    "        \n",
    "    Returns:\n",
    "        A tuple (policy, V) of the optimal policy and the optimal value function\n",
    "    \"\"\"\n",
    "    # Start with a random (all 0) value function\n",
    "    V = {}\n",
    "    for s in S:\n",
    "        V[s] = 0.0\n",
    "        \n",
    "    while True:\n",
    "        # Stopping condition\n",
    "        delta = 0\n",
    "        # Update each state\n",
    "        for s in S:\n",
    "            action_values = np.zeros(nA)\n",
    "            # Look at the possible next actions\n",
    "            for i, a in enumerate(A):\n",
    "                # For each action, look at the possible next states\n",
    "                P_state = next_state(s, a, pe)\n",
    "                for prob in P_state.keys():\n",
    "                    s_next = P_state[prob]\n",
    "                    # Calculate the expected value\n",
    "                    action_values[i] += prob * (reward_fn(s_next) + discount_factor * V[s_next])\n",
    "            # Find best action by doing a one-step lookahead\n",
    "            best_action_value = np.max(action_values)\n",
    "            best_action_index = np.argmax(action_values)\n",
    "            policy[s] = A[best_action_index] \n",
    "\n",
    "            # Calculate delta across all states seen so far\n",
    "            delta = max(delta, np.abs(best_action_value - V[s]))\n",
    "            # Update the value function\n",
    "            V[s] = best_action_value\n",
    "\n",
    "        # Check if we can stop\n",
    "        if delta < theta:\n",
    "            break\n",
    "    return policy, V        "
   ]
  },
  {
   "cell_type": "code",
   "execution_count": 14,
   "metadata": {
    "collapsed": false
   },
   "outputs": [
    {
     "data": {
      "image/png": "[encoded data removed]",
      "text/plain": [
       "<Figure size 432x432 with 1 Axes>"
      ]
     },
     "metadata": {
      "needs_background": "light"
     },
     "output_type": "display_data"
    },
    {
     "name": "stdout",
     "output_type": "stream",
     "text": [
      "Execution time of Value Iteration = 3.1343929767608643 s\n",
      "Trajectory ([state, action]) from (1, 4, 6) to the goal is:  [[(1, 4, 6), (1, 0)], [(1, 3, 6), (1, -1)], [(1, 2, 5), (1, -1)], [(1, 1, 4), (1, 0)], [(2, 1, 4), (1, 1)], [(3, 1, 5), (2, 0)], [(3, 2, 5), (2, 0)], [(3, 3, 5), (2, 0)], [(3, 4, 5), (0, 0)]]\n"
     ]
    }
   ],
   "source": [
    "# Problem 4(b) and Problem 4(c)\n",
    "import time\n",
    "\n",
    "# Compute the optimal policy\n",
    "start_time = time.time()\n",
    "policy_optimal, V_optimal = value_iteration(policy, pe =0.0, discount_factor=0.9)\n",
    "\n",
    "# Recompute and plot the trajectory under this optimal policy\n",
    "s0 = (1, 4, 6)\n",
    "traj = generate_trajectory(policy_optimal, s0, pe=0.0, show=True)\n",
    "end_time = time.time()\n",
    "print(\"Execution time of Value Iteration = %s s\" %str(end_time - start_time))\n",
    "print(\"Trajectory ([state, action]) from %s to the goal is: \" % str(s0), traj)"
   ]
  },
  {
   "cell_type": "code",
   "execution_count": 13,
   "metadata": {},
   "outputs": [
    {
     "data": {
      "image/png": "[encoded data removed]",
      "text/plain": [
       "<Figure size 432x432 with 1 Axes>"
      ]
     },
     "metadata": {
      "needs_background": "light"
     },
     "output_type": "display_data"
    },
    {
     "name": "stdout",
     "output_type": "stream",
     "text": [
      "Trajectory ([state, action]) from (1, 4, 6) to the goal is:  [[(1, 4, 6), (1, 1)], [(1, 3, 7), (1, 0)], [(1, 2, 7), (1, 1)], [(1, 1, 8), (2, 1)], [(2, 1, 9), (2, -1)], [(3, 1, 8), (2, 0)], [(4, 1, 8), (0, 0)]]\n",
      "Value in state (1, 4, 6) is 0.11939863366883982\n"
     ]
    }
   ],
   "source": [
    "# Problem 5(a)\n",
    "# Set Error Probability to 25%\n",
    "policy_optimal, V_optimal = value_iteration(policy, pe=0.25, discount_factor=0.9)\n",
    "s0 = (1, 4, 6)\n",
    "traj3 = generate_trajectory(policy_optimal, s0, pe=0.25, show=True)\n",
    "print(\"Trajectory ([state, action]) from %s to the goal is: \" % str(s0), traj3)\n",
    "print(\"Value in state %s is\" % str(s0),V_optimal[s0])"
   ]
  },
  {
   "cell_type": "code",
   "execution_count": 14,
   "metadata": {},
   "outputs": [
    {
     "name": "stdout",
     "output_type": "stream",
     "text": [
      "When pe = 0, the trajectory is shown as follows:\n"
     ]
    },
    {
     "data": {
      "image/png": "[encoded data removed]",
      "text/plain": [
       "<Figure size 432x432 with 1 Axes>"
      ]
     },
     "metadata": {
      "needs_background": "light"
     },
     "output_type": "display_data"
    },
    {
     "name": "stdout",
     "output_type": "stream",
     "text": [
      "Trajectory ([state, action]) from (1, 4, 6) to the goal is:  [[(1, 4, 6), (1, 0)], [(1, 3, 6), (1, -1)], [(1, 2, 5), (1, -1)], [(1, 1, 4), (1, 0)], [(2, 1, 4), (1, 1)], [(3, 1, 5), (2, 0)], [(3, 2, 5), (2, 0)], [(3, 3, 5), (2, 0)], [(3, 4, 5), (0, 0)]]\n",
      "Value in state (1, 4, 6) is 4.782351963480831\n"
     ]
    }
   ],
   "source": [
    "# Problem 5(b)\n",
    "\n",
    "# Define a new reward function\n",
    "def reward_new(s):\n",
    "    # Border states (red)\n",
    "    if (s[0] in [0, 5]) or (s[1] in [0, 5]):\n",
    "        return -100\n",
    "    \n",
    "    # Lane Markers (yellow)\n",
    "    elif (s[0] in [2, 4]) and (s[1] in [2, 3, 4]):\n",
    "        return -10\n",
    "    \n",
    "    # Goal state (position (3,4) and pointing down)\n",
    "    elif (s[0] == 3) and (s[1] == 4) and (s[2] in [5, 6, 7]):\n",
    "        return 1\n",
    "\n",
    "    else:\n",
    "        return 0\n",
    "    \n",
    "# When pe = 0.0\n",
    "pe = 0.0\n",
    "print(\"When pe = 0, the trajectory is shown as follows:\")\n",
    "policy_optimal, V_optimal = value_iteration(policy, reward_new, pe, discount_factor=0.9)\n",
    "s0 = (1, 4, 6)\n",
    "traj4 = generate_trajectory(policy_optimal, s0, pe, show=True)\n",
    "print(\"Trajectory ([state, action]) from %s to the goal is: \" % str(s0),traj4)\n",
    "print(\"Value in state %s is\" % str(s0),V_optimal[s0])"
   ]
  },
  {
   "cell_type": "code",
   "execution_count": 15,
   "metadata": {},
   "outputs": [
    {
     "name": "stdout",
     "output_type": "stream",
     "text": [
      "When pe = 25%, the trajectory is shown as follows:\n"
     ]
    },
    {
     "data": {
      "image/png": "[encoded data removed]",
      "text/plain": [
       "<Figure size 432x432 with 1 Axes>"
      ]
     },
     "metadata": {
      "needs_background": "light"
     },
     "output_type": "display_data"
    },
    {
     "name": "stdout",
     "output_type": "stream",
     "text": [
      "Trajectory ([state, action]) from (1, 4, 6) to the goal is:  [[(1, 4, 6), (1, 1)], [(1, 3, 7), (1, 0)], [(1, 2, 7), (1, 1)], [(1, 1, 8), (2, 1)], [(2, 1, 9), (2, -1)], [(3, 1, 8), (2, 0)], [(4, 1, 8), (0, 0)]]\n",
      "Value in state (1, 4, 6) is 0.11117061422086838\n"
     ]
    }
   ],
   "source": [
    "# When pe = 25%\n",
    "pe = 0.25\n",
    "print(\"When pe = 25%, the trajectory is shown as follows:\")\n",
    "policy_optimal, V_optimal = value_iteration(policy, reward_new, pe, discount_factor=0.9)\n",
    "s0 = (1, 4, 6)\n",
    "traj5 = generate_trajectory(policy_optimal, s0, pe, show=True)\n",
    "print(\"Trajectory ([state, action]) from %s to the goal is: \" % str(s0),traj5)\n",
    "print(\"Value in state %s is\" % str(s0),V_optimal[s0])"
   ]
  },
  {
   "cell_type": "code",
   "execution_count": null,
   "metadata": {},
   "outputs": [],
   "source": []
  }
 ],
 "metadata": {
  "anaconda-cloud": {},
  "kernelspec": {
   "display_name": "Python 3",
   "language": "python",
   "name": "python3"
  },
  "language_info": {
   "codemirror_mode": {
    "name": "ipython",
    "version": 3
   },
   "file_extension": ".py",
   "mimetype": "text/x-python",
   "name": "python",
   "nbconvert_exporter": "python",
   "pygments_lexer": "ipython3",
   "version": "3.7.0"
  }
 },
 "nbformat": 4,
 "nbformat_minor": 2
}
